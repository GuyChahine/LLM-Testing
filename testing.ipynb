{
 "cells": [
  {
   "cell_type": "code",
   "execution_count": 1,
   "metadata": {},
   "outputs": [],
   "source": [
    "TOKEN = \"\""
   ]
  },
  {
   "cell_type": "code",
   "execution_count": 2,
   "metadata": {},
   "outputs": [
    {
     "name": "stderr",
     "output_type": "stream",
     "text": [
      "/home/guy/Desktop/Llama-Testing/.venv/lib/python3.10/site-packages/tqdm/auto.py:21: TqdmWarning: IProgress not found. Please update jupyter and ipywidgets. See https://ipywidgets.readthedocs.io/en/stable/user_install.html\n",
      "  from .autonotebook import tqdm as notebook_tqdm\n"
     ]
    }
   ],
   "source": [
    "from transformers import AutoTokenizer, AutoModelForCausalLM"
   ]
  },
  {
   "cell_type": "code",
   "execution_count": 3,
   "metadata": {},
   "outputs": [],
   "source": [
    "tokenizer = AutoTokenizer.from_pretrained(\"meta-llama/Llama-2-7b-hf\", token=TOKEN)"
   ]
  },
  {
   "cell_type": "code",
   "execution_count": 4,
   "metadata": {},
   "outputs": [
    {
     "name": "stderr",
     "output_type": "stream",
     "text": [
      "Loading checkpoint shards: 100%|██████████| 2/2 [00:05<00:00,  2.77s/it]\n",
      "/home/guy/Desktop/Llama-Testing/.venv/lib/python3.10/site-packages/transformers/utils/hub.py:374: FutureWarning: The `use_auth_token` argument is deprecated and will be removed in v5 of Transformers.\n",
      "  warnings.warn(\n"
     ]
    }
   ],
   "source": [
    "model = AutoModelForCausalLM.from_pretrained(\"meta-llama/Llama-2-7b-hf\", token=TOKEN)"
   ]
  },
  {
   "cell_type": "code",
   "execution_count": 5,
   "metadata": {},
   "outputs": [],
   "source": [
    "import torch"
   ]
  },
  {
   "cell_type": "code",
   "execution_count": 6,
   "metadata": {},
   "outputs": [],
   "source": [
    "def predict(text: str, max_length: int = 10) -> str:\n",
    "    encoded_text = torch.tensor(tokenizer.encode(text))[None]\n",
    "    for i in range(max_length):\n",
    "        output = model(encoded_text)\n",
    "        new_encoded_word = output.logits[0, -1].argmax()\n",
    "        logits_value = output.logits[0, -1, new_encoded_word.item()]\n",
    "        new_word = tokenizer.decode(new_encoded_word)\n",
    "        encoded_text = torch.cat([encoded_text, new_encoded_word[None, None]], axis=1)\n",
    "        print(f\"[{i+1}/{max_length}] Generated word: {new_word} | Confidence: {logits_value:.2F}\")\n",
    "    output_text = tokenizer.decode(encoded_text[0])\n",
    "    return output_text"
   ]
  },
  {
   "cell_type": "code",
   "execution_count": 7,
   "metadata": {},
   "outputs": [
    {
     "name": "stdout",
     "output_type": "stream",
     "text": [
      "[1/10] Generated word: vio | Confidence: 13.83\n",
      "[2/10] Generated word: lets | Confidence: 24.31\n",
      "[3/10] Generated word: are | Confidence: 21.52\n",
      "[4/10] Generated word: blue | Confidence: 20.08\n",
      "[5/10] Generated word: , | Confidence: 18.36\n",
      "[6/10] Generated word: but | Confidence: 12.61\n",
      "[7/10] Generated word: what | Confidence: 9.86\n",
      "[8/10] Generated word: about | Confidence: 15.44\n",
      "[9/10] Generated word: the | Confidence: 13.42\n",
      "[10/10] Generated word: rest | Confidence: 13.42\n"
     ]
    },
    {
     "data": {
      "text/plain": [
       "'<s> Roses are red and violets are blue, but what about the rest'"
      ]
     },
     "execution_count": 7,
     "metadata": {},
     "output_type": "execute_result"
    }
   ],
   "source": [
    "TEXT = \"Roses are red and\"\n",
    "predict(TEXT)"
   ]
  }
 ],
 "metadata": {
  "kernelspec": {
   "display_name": ".venv",
   "language": "python",
   "name": "python3"
  },
  "language_info": {
   "codemirror_mode": {
    "name": "ipython",
    "version": 3
   },
   "file_extension": ".py",
   "mimetype": "text/x-python",
   "name": "python",
   "nbconvert_exporter": "python",
   "pygments_lexer": "ipython3",
   "version": "3.10.12"
  },
  "orig_nbformat": 4
 },
 "nbformat": 4,
 "nbformat_minor": 2
}
